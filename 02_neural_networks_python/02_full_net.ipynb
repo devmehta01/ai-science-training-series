{
  "cells": [
    {
      "cell_type": "code",
      "execution_count": 1,
      "id": "662a93d1",
      "metadata": {
        "id": "662a93d1"
      },
      "outputs": [],
      "source": [
        "%load_ext autoreload\n",
        "%autoreload 2"
      ]
    },
    {
      "cell_type": "code",
      "execution_count": 2,
      "id": "e19878bb",
      "metadata": {
        "id": "e19878bb"
      },
      "outputs": [],
      "source": [
        "%matplotlib inline\n",
        "\n",
        "import tensorflow as tf\n",
        "\n",
        "import numpy\n",
        "import matplotlib.pyplot as plt"
      ]
    },
    {
      "cell_type": "code",
      "execution_count": 3,
      "id": "573fda93",
      "metadata": {
        "id": "573fda93"
      },
      "outputs": [],
      "source": [
        "from sklearn.model_selection import train_test_split"
      ]
    },
    {
      "cell_type": "code",
      "execution_count": 4,
      "id": "da412dba",
      "metadata": {
        "id": "da412dba",
        "outputId": "761d22a1-4815-44dc-a377-afa51cfd79b9",
        "colab": {
          "base_uri": "https://localhost:8080/"
        }
      },
      "outputs": [
        {
          "output_type": "stream",
          "name": "stdout",
          "text": [
            "Downloading data from https://storage.googleapis.com/tensorflow/tf-keras-datasets/mnist.npz\n",
            "11490434/11490434 [==============================] - 0s 0us/step\n",
            "(40200, 28, 28)\n",
            "(40200, 784)\n",
            "\n",
            "MNIST data loaded: train: 40200 val: 19800 test: 10000\n",
            "X_train: (40200, 784)\n",
            "y_train: (40200,)\n"
          ]
        }
      ],
      "source": [
        "# repeating the data prep from the previous notebook\n",
        "(x_train, y_train), (x_test, y_test) = tf.keras.datasets.mnist.load_data()\n",
        "# EDIT: splitting training data into train and val because this is better practice than using test data to\n",
        "# choose models/hyperparameters\n",
        "x_train, x_val, y_train, y_val = train_test_split(x_train, y_train, test_size=0.33, random_state=42)\n",
        "\n",
        "x_train = x_train.astype(numpy.float32)\n",
        "# EDIT: adding pre-processing to validation data \n",
        "x_val  = x_val.astype(numpy.float32)\n",
        "x_test  = x_test.astype(numpy.float32)\n",
        "\n",
        "x_train /= 255.\n",
        "x_val  /= 255.\n",
        "x_test  /= 255.\n",
        "\n",
        "print(x_train.shape)\n",
        "x_train = x_train.reshape(x_train.shape[0], numpy.prod(x_train[0,:,:].shape))\n",
        "x_val = x_val.reshape(x_val.shape[0], numpy.prod(x_val[0,:,:].shape))\n",
        "x_test = x_test.reshape(x_test.shape[0], numpy.prod(x_test[0,:,:].shape))\n",
        "\n",
        "print(x_train.shape)\n",
        "y_train = y_train.astype(numpy.int32)\n",
        "y_val  = y_val.astype(numpy.int32)\n",
        "y_test  = y_test.astype(numpy.int32)\n",
        "\n",
        "print()\n",
        "print('MNIST data loaded: train:',len(x_train),'val:',len(x_val), 'test:',len(x_test))\n",
        "print('X_train:', x_train.shape)\n",
        "print('y_train:', y_train.shape)\n",
        "\n",
        "# one-hot encoding:\n",
        "nb_classes = 10\n",
        "y_train_onehot = tf.keras.utils.to_categorical(y_train, nb_classes)\n",
        "y_val_onehot = tf.keras.utils.to_categorical(y_val, nb_classes)\n",
        "y_test_onehot = tf.keras.utils.to_categorical(y_test, nb_classes)"
      ]
    },
    {
      "cell_type": "code",
      "execution_count": 6,
      "id": "302994b1",
      "metadata": {
        "id": "302994b1"
      },
      "outputs": [],
      "source": [
        "# Here we import an implementation of a two-layer neural network \n",
        "# this code is based on pieces of the first assignment from Stanford's CSE231n course, \n",
        "# hosted at https://github.com/cs231n/cs231n.github.io with the MIT license\n",
        "from fc_net import TwoLayerNet"
      ]
    },
    {
      "cell_type": "code",
      "execution_count": 7,
      "id": "c43e3aa5",
      "metadata": {
        "id": "c43e3aa5"
      },
      "outputs": [],
      "source": [
        "# a simple implementation of stochastic gradient descent\n",
        "def sgd(model, gradients, learning_rate):\n",
        "    for p, w in model.params.items():\n",
        "        dw = gradients[p]\n",
        "        new_weights = w - learning_rate * dw\n",
        "        model.params[p] = new_weights"
      ]
    },
    {
      "cell_type": "code",
      "execution_count": 8,
      "id": "c8316228",
      "metadata": {
        "id": "c8316228"
      },
      "outputs": [],
      "source": [
        "# one training step\n",
        "def learn(model, x_train, y_train_onehot, learning_rate):\n",
        "    loss, gradients = model.loss(x_train, y_train_onehot)\n",
        "    sgd(model, gradients, learning_rate)\n",
        "    return loss"
      ]
    },
    {
      "cell_type": "code",
      "execution_count": 9,
      "id": "3faadcdb",
      "metadata": {
        "id": "3faadcdb"
      },
      "outputs": [],
      "source": [
        "def accuracy(model, x, true_values):\n",
        "    scores = model.loss(x)\n",
        "    predictions = numpy.argmax(scores, axis=1)\n",
        "    N = predictions.shape[0]\n",
        "    # EDIT: squeezing true_values from 2d to 1d speeds up this function\n",
        "    true_values_1d = numpy.squeeze(true_values)\n",
        "    acc = (true_values_1d == predictions).sum() / N\n",
        "    return acc"
      ]
    },
    {
      "cell_type": "code",
      "execution_count": 10,
      "id": "170952f0",
      "metadata": {
        "id": "170952f0"
      },
      "outputs": [],
      "source": [
        "# EDIT: decided to track how long each epoch takes\n",
        "import time"
      ]
    },
    {
      "cell_type": "code",
      "execution_count": 11,
      "id": "49754891",
      "metadata": {
        "id": "49754891"
      },
      "outputs": [],
      "source": [
        "# Here's an example training loop using this two-layer model. Can you do better? \n",
        "\n",
        "# EDIT: also track validation data\n",
        "# EDIT: factoring this out into a function to make it easier to compare options\n",
        "def training(learning_rate, batch_size, num_epochs, hidden_dim, weight_scale, x_train, y_train, y_train_onehot, x_val, y_val, y_val_onehot):\n",
        "    num_features = x_train.shape[1] # this is the number of pixels\n",
        "    nb_classes = y_train_onehot.shape[1]\n",
        "    \n",
        "    # The weights are initialized from a normal distribution with standard deviation weight_scale\n",
        "    model = TwoLayerNet(input_dim=num_features, hidden_dim=hidden_dim, num_classes=nb_classes, weight_scale=weight_scale)\n",
        "    \n",
        "    num_examples_train = x_train.shape[0]\n",
        "    num_batches_train = int(num_examples_train / batch_size)\n",
        "    \n",
        "    losses = numpy.zeros((num_batches_train*num_epochs,2)) # 1st column for training data, 2nd for validation data\n",
        "    # EDIT: also track accuracy\n",
        "    accuracies = numpy.zeros((num_batches_train*num_epochs,2)) \n",
        "    \n",
        "    indices_train = numpy.arange(num_examples_train)\n",
        "    num_examples_val = x_val.shape[0]\n",
        "    indices_val = numpy.arange(num_examples_val)\n",
        "\n",
        "    i = 0\n",
        "    for epoch in range(0, num_epochs):\n",
        "        start_epoch = time.time()\n",
        "        # in each epoch, we loop over all of the training examples\n",
        "        for step in range(0, num_batches_train):\n",
        "            # grabbing the next training batch\n",
        "            offset_train = step * batch_size\n",
        "            batch_range_train = range(offset_train, offset_train+batch_size)\n",
        "            x_train_batch = x_train[batch_range_train, :]\n",
        "            # EDIT: keep around non-onehot labels as well for accuracy calculation\n",
        "            y_train_onehot_batch = y_train_onehot[batch_range_train,:]\n",
        "            y_train_batch = y_train[batch_range_train,numpy.newaxis]\n",
        "\n",
        "            # one approach: grab a random validation batch (random offset into number of validation examples)\n",
        "            offset_val = numpy.random.randint(low=0, high=num_examples_val-batch_size)\n",
        "            batch_range_val = range(offset_val, offset_val+batch_size)\n",
        "            x_val_batch = x_val[batch_range_val, :]\n",
        "            y_val_onehot_batch = y_val_onehot[batch_range_val,:]\n",
        "            y_val_batch = y_val[batch_range_val,numpy.newaxis]\n",
        "\n",
        "            # feed the next batch in to do one sgd step\n",
        "            loss_train = learn(model, x_train_batch, y_train_onehot_batch, learning_rate)\n",
        "\n",
        "            # check training & validation loss & accuracy\n",
        "            losses[i,0] = loss_train\n",
        "            \n",
        "            # could save time by commenting out the next three lines and only tracking at the epoch level\n",
        "            accuracies[i,0] = accuracy(model, x_train_batch, y_train_batch)\n",
        "            losses[i,1], _ = model.loss(x_val_batch, y_val_onehot_batch)\n",
        "            accuracies[i,1] = accuracy(model, x_val_batch, y_val_batch)\n",
        "            i += 1\n",
        "\n",
        "        # slower, so we're only doing this once per epoch: checking accuracy on all of the data at once\n",
        "        acc_train = accuracy(model, x_train, y_train)\n",
        "        acc_val = accuracy(model, x_val, y_val)\n",
        "        \n",
        "        # reshuffle the data so that we get a new set of batches\n",
        "        numpy.random.shuffle(indices_train)\n",
        "        x_train = x_train[indices_train,:]\n",
        "        y_train = y_train[indices_train] # keep this shuffled the same way for use in accuracy calculation\n",
        "        y_train_onehot = y_train_onehot[indices_train,:]\n",
        "\n",
        "        numpy.random.shuffle(indices_val)\n",
        "        x_val = x_val[indices_val,:]\n",
        "        y_val = y_val[indices_val] \n",
        "        y_val_onehot = y_val_onehot[indices_val,:]\n",
        "        end_epoch = time.time()\n",
        "        time_this_epoch = end_epoch - start_epoch\n",
        "        print(\"epoch %d took %.1f seconds, training loss %.5f (last batch), training accuracy %.3f, validation accuracy %.3f\" % (epoch, time_this_epoch, loss_train, acc_train, acc_val))\n",
        "    return losses, accuracies, model\n",
        "\n",
        "        "
      ]
    },
    {
      "cell_type": "code",
      "execution_count": 12,
      "id": "c0a91cf3",
      "metadata": {
        "id": "c0a91cf3",
        "outputId": "86f6686a-8f1a-4c6a-9416-b0cb20344b28",
        "colab": {
          "base_uri": "https://localhost:8080/",
          "height": 456
        }
      },
      "outputs": [
        {
          "output_type": "stream",
          "name": "stdout",
          "text": [
            "epoch 0 took 8.1 seconds, training loss 2.30046 (last batch), training accuracy 0.120, validation accuracy 0.121\n",
            "epoch 1 took 8.1 seconds, training loss 2.29932 (last batch), training accuracy 0.141, validation accuracy 0.142\n",
            "epoch 2 took 8.0 seconds, training loss 2.29855 (last batch), training accuracy 0.160, validation accuracy 0.162\n",
            "epoch 3 took 8.1 seconds, training loss 2.29752 (last batch), training accuracy 0.179, validation accuracy 0.184\n",
            "epoch 4 took 8.6 seconds, training loss 2.29647 (last batch), training accuracy 0.199, validation accuracy 0.203\n",
            "epoch 5 took 8.0 seconds, training loss 2.29546 (last batch), training accuracy 0.220, validation accuracy 0.224\n",
            "epoch 6 took 8.0 seconds, training loss 2.29460 (last batch), training accuracy 0.241, validation accuracy 0.246\n",
            "epoch 7 took 8.9 seconds, training loss 2.29350 (last batch), training accuracy 0.263, validation accuracy 0.266\n",
            "epoch 8 took 9.5 seconds, training loss 2.29258 (last batch), training accuracy 0.285, validation accuracy 0.289\n",
            "epoch 9 took 8.0 seconds, training loss 2.29152 (last batch), training accuracy 0.307, validation accuracy 0.311\n"
          ]
        },
        {
          "output_type": "execute_result",
          "data": {
            "text/plain": [
              "[<matplotlib.lines.Line2D at 0x7faa2ea39c50>]"
            ]
          },
          "metadata": {},
          "execution_count": 12
        },
        {
          "output_type": "display_data",
          "data": {
            "text/plain": [
              "<Figure size 432x288 with 2 Axes>"
            ],
            "image/png": "[encoded data removed]"
          },
          "metadata": {
            "needs_background": "light"
          }
        }
      ],
      "source": [
        "# these are the hyperparameters we had in class\n",
        "learning_rate = 0.01  \n",
        "batch_size = 10000\n",
        "num_epochs = 10\n",
        "hidden_dim = 300\n",
        "weight_scale = .01\n",
        "losses, accuracies, model = training(learning_rate, batch_size, num_epochs, hidden_dim, weight_scale, x_train, y_train, y_train_onehot, x_val, y_val, y_val_onehot)\n",
        "\n",
        "# EDIT: plot training & val, loss & accuracy\n",
        "plt.figure()\n",
        "plt.subplot(2,1,1)\n",
        "plt.plot(losses[:,0])\n",
        "plt.plot(losses[:,1])\n",
        "plt.legend([\"train\", \"val\"])\n",
        "\n",
        "plt.subplot(2,1,2)\n",
        "plt.plot(accuracies[:,0])\n",
        "plt.plot(accuracies[:,1])"
      ]
    },
    {
      "cell_type": "markdown",
      "id": "a2dd5728",
      "metadata": {
        "id": "a2dd5728"
      },
      "source": [
        "# Homework: improve the accuracy of this model. "
      ]
    },
    {
      "cell_type": "markdown",
      "id": "faaf0515",
      "metadata": {
        "id": "faaf0515"
      },
      "source": [
        "Update this notebook so that the accuracy is improved. How high can you get it? You could change things directly in the notebook, such as increasing the number of epochs, changing the learning weight, changing the width of the hidden layer, etc. If you're more ambitious, you could also try changing the model definition itself by checking out the associated Python files. For example, you could add more layers to the network. The current notebook has a training accuracy of about 43%, but will vary with randomness."
      ]
    },
    {
      "cell_type": "code",
      "execution_count": 13,
      "id": "5edc9053",
      "metadata": {
        "id": "5edc9053",
        "outputId": "c11e674d-3217-442f-d055-0d6601be31a0",
        "colab": {
          "base_uri": "https://localhost:8080/",
          "height": 733
        }
      },
      "outputs": [
        {
          "output_type": "stream",
          "name": "stdout",
          "text": [
            "0.03210479558034334\n",
            "epoch 0 took 42.9 seconds, training loss 0.68865 (last batch), training accuracy 0.849, validation accuracy 0.848\n",
            "epoch 1 took 38.9 seconds, training loss 0.51869 (last batch), training accuracy 0.877, validation accuracy 0.877\n",
            "epoch 2 took 39.8 seconds, training loss 0.42288 (last batch), training accuracy 0.890, validation accuracy 0.891\n",
            "epoch 3 took 39.0 seconds, training loss 0.41434 (last batch), training accuracy 0.896, validation accuracy 0.898\n",
            "epoch 4 took 38.8 seconds, training loss 0.38385 (last batch), training accuracy 0.901, validation accuracy 0.905\n",
            "epoch 5 took 41.3 seconds, training loss 0.39724 (last batch), training accuracy 0.905, validation accuracy 0.910\n",
            "epoch 6 took 38.7 seconds, training loss 0.34289 (last batch), training accuracy 0.908, validation accuracy 0.913\n",
            "epoch 7 took 38.4 seconds, training loss 0.32299 (last batch), training accuracy 0.912, validation accuracy 0.916\n",
            "epoch 8 took 38.6 seconds, training loss 0.31688 (last batch), training accuracy 0.915, validation accuracy 0.917\n",
            "epoch 9 took 38.7 seconds, training loss 0.31295 (last batch), training accuracy 0.918, validation accuracy 0.920\n",
            "epoch 10 took 45.7 seconds, training loss 0.32086 (last batch), training accuracy 0.920, validation accuracy 0.921\n",
            "epoch 11 took 38.9 seconds, training loss 0.29598 (last batch), training accuracy 0.922, validation accuracy 0.923\n",
            "epoch 12 took 39.2 seconds, training loss 0.28852 (last batch), training accuracy 0.924, validation accuracy 0.925\n",
            "epoch 13 took 39.3 seconds, training loss 0.24796 (last batch), training accuracy 0.927, validation accuracy 0.927\n",
            "epoch 14 took 38.9 seconds, training loss 0.24415 (last batch), training accuracy 0.929, validation accuracy 0.928\n",
            "epoch 15 took 39.0 seconds, training loss 0.24063 (last batch), training accuracy 0.930, validation accuracy 0.930\n",
            "epoch 16 took 41.8 seconds, training loss 0.20863 (last batch), training accuracy 0.932, validation accuracy 0.931\n",
            "epoch 17 took 43.4 seconds, training loss 0.24428 (last batch), training accuracy 0.933, validation accuracy 0.932\n",
            "epoch 18 took 38.8 seconds, training loss 0.23053 (last batch), training accuracy 0.934, validation accuracy 0.934\n",
            "epoch 19 took 39.1 seconds, training loss 0.22008 (last batch), training accuracy 0.936, validation accuracy 0.934\n",
            "epoch 20 took 38.8 seconds, training loss 0.20159 (last batch), training accuracy 0.937, validation accuracy 0.935\n",
            "epoch 21 took 41.9 seconds, training loss 0.23260 (last batch), training accuracy 0.938, validation accuracy 0.937\n",
            "epoch 22 took 39.0 seconds, training loss 0.23127 (last batch), training accuracy 0.939, validation accuracy 0.938\n",
            "epoch 23 took 38.8 seconds, training loss 0.20765 (last batch), training accuracy 0.941, validation accuracy 0.938\n",
            "epoch 24 took 39.1 seconds, training loss 0.20778 (last batch), training accuracy 0.942, validation accuracy 0.940\n"
          ]
        },
        {
          "output_type": "execute_result",
          "data": {
            "text/plain": [
              "[<matplotlib.lines.Line2D at 0x7faa2e4b2710>]"
            ]
          },
          "metadata": {},
          "execution_count": 13
        },
        {
          "output_type": "display_data",
          "data": {
            "text/plain": [
              "<Figure size 432x288 with 2 Axes>"
            ],
            "image/png": "[encoded data removed]"
          },
          "metadata": {
            "needs_background": "light"
          }
        }
      ],
      "source": [
        "learning_rate = 0.1  \n",
        "batch_size = 1200\n",
        "num_epochs = 25\n",
        "hidden_dim = 1600\n",
        "size_input = x_train.shape[1]\n",
        "weight_scale1 = numpy.sqrt(2./(size_input+hidden_dim))\n",
        "weight_scale2 = numpy.sqrt(2./(hidden_dim+nb_classes))\n",
        "weight_scale = (weight_scale1 + weight_scale2)/2\n",
        "print(weight_scale)\n",
        "losses, accuracies, model = training(learning_rate, batch_size, num_epochs, hidden_dim, weight_scale, x_train, y_train, y_train_onehot, x_val, y_val, y_val_onehot)\n",
        "\n",
        "plt.figure()\n",
        "plt.subplot(2,1,1)\n",
        "plt.plot(losses[:,0])\n",
        "plt.plot(losses[:,1])\n",
        "plt.legend([\"train\", \"val\"])\n",
        "\n",
        "plt.subplot(2,1,2)\n",
        "plt.plot(accuracies[:,0])\n",
        "plt.plot(accuracies[:,1])"
      ]
    },
    {
      "cell_type": "code",
      "execution_count": null,
      "id": "dacaeba2",
      "metadata": {
        "id": "dacaeba2"
      },
      "outputs": [],
      "source": []
    }
  ],
  "metadata": {
    "kernelspec": {
      "display_name": "Python [conda env:general]",
      "language": "python",
      "name": "conda-env-general-py"
    },
    "language_info": {
      "codemirror_mode": {
        "name": "ipython",
        "version": 3
      },
      "file_extension": ".py",
      "mimetype": "text/x-python",
      "name": "python",
      "nbconvert_exporter": "python",
      "pygments_lexer": "ipython3",
      "version": "3.7.7"
    },
    "colab": {
      "provenance": []
    }
  },
  "nbformat": 4,
  "nbformat_minor": 5
}